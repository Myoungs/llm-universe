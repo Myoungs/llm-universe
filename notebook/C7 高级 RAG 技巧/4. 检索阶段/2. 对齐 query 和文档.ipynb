{
 "cells": [
  {
   "cell_type": "markdown",
   "metadata": {},
   "source": [
    "# 对齐 query 和文档\n",
    "\n",
    "在 RAG 系统中，检索器可以利用单个嵌入模型来编码 query 和文档，用户的原始查询可能会受到措辞不精确和缺乏语义信息的影响，导致检索结果不符合预期。因此，将用户查询的语义空间与文档的语义空间保持一致至关重要。本节旨在介绍实现 query 和文档对齐的三个基本技术：query 改写、query 转换以及 Embedding 转换。"
   ]
  },
  {
   "cell_type": "markdown",
   "metadata": {},
   "source": [
    "## 1. query 改写\n",
    "\n",
    "### 1.1 定义\n",
    "通过优化原始 query 的表述，使其更适合检索任务，解决用户原始 query 表达模糊或语义信息缺失的问题，从而提高检索的准确性和召回率。\n",
    "\n",
    "### 1.2 实现方法\n",
    "实现 query 改写的主要方法有：\n",
    "* 使用语言模型改写 query：利用大语言模型对原始 query 进行改写，使其更加清晰、准确。例如，将复杂的自然语言问题转化为更简洁、更符合检索需求的表述。例如，将“我想知道关于人工智能的最新研究进展”改写为“人工智能最新研究论文”。\n",
    "* 结合上下文信息改写 query：在多轮对话中，结合之前的对话内容对当前 query 进行改写，使当前 query 的语义信息更完整。例如，在用户询问“详细介绍这个算法的实现原理”时，结合历史对话提到的算法A，替换句中的指代对象，改写为“算法A的实现原理”。\n",
    "\n",
    "### 1.3 代码实现"
   ]
  },
  {
   "cell_type": "markdown",
   "metadata": {},
   "source": [
    "下面是一个结合对话历史进行 query 改写的代码示例，对话模型采用 `gpt-4o-mini`，Embedding 模型采用智谱 AI 的 `embedding-3`，向量数据库采用 `Chroma` 实现。"
   ]
  },
  {
   "cell_type": "code",
   "execution_count": 1,
   "metadata": {},
   "outputs": [],
   "source": [
    "import os\n",
    "import uuid\n",
    "from langchain.chains import create_history_aware_retriever, create_retrieval_chain\n",
    "from langchain.chains.combine_documents import create_stuff_documents_chain\n",
    "from langchain_chroma import Chroma\n",
    "from langchain_community.chat_message_histories import ChatMessageHistory\n",
    "from langchain_community.document_loaders import WebBaseLoader\n",
    "from langchain_community.document_transformers import Html2TextTransformer\n",
    "from langchain_core.chat_history import BaseChatMessageHistory\n",
    "from langchain_core.prompts import ChatPromptTemplate, MessagesPlaceholder\n",
    "from langchain_core.runnables.history import RunnableWithMessageHistory\n",
    "from langchain_openai import ChatOpenAI\n",
    "from langchain_text_splitters import RecursiveCharacterTextSplitter\n",
    "from zhipuai_embedding import ZhipuAIEmbeddings\n",
    "\n",
    "os.environ['HTTPS_PROXY'] = 'http://127.0.0.1:7890'\n",
    "os.environ[\"HTTP_PROXY\"] = 'http://127.0.0.1:7890'"
   ]
  },
  {
   "cell_type": "markdown",
   "metadata": {},
   "source": [
    "从 `.env` 文件读取环境变量配置。"
   ]
  },
  {
   "cell_type": "code",
   "execution_count": 2,
   "metadata": {},
   "outputs": [],
   "source": [
    "from dotenv import load_dotenv, find_dotenv\n",
    "\n",
    "# 读取本地/项目的环境变量。\n",
    "\n",
    "# find_dotenv() 寻找并定位 .env 文件的路径\n",
    "# load_dotenv() 读取该 .env 文件，并将其中的环境变量加载到当前的运行环境中  \n",
    "# 如果你设置的是全局的环境变量，这行代码则没有任何作用。\n",
    "_ = load_dotenv(find_dotenv())\n",
    "\n",
    "os.environ[\"OPENAI_API_KEY\"] = os.getenv('OPENAI_API_KEY') # OpenAI API key\n",
    "os.environ['ZHIPUAI_API_KEY'] = os.getenv('ZHIPUAI_API_KEY') # ZHIPUAI API key"
   ]
  },
  {
   "cell_type": "code",
   "execution_count": 3,
   "metadata": {},
   "outputs": [],
   "source": [
    "# 构造检索器，读取网页内容\n",
    "loader = WebBaseLoader(\n",
    "    web_paths=(\"https://movie.douban.com/subject/34780991/?from=showing\",),\n",
    "    encoding=\"utf-8\", # 中文网页指定编码\n",
    ")\n",
    "docs = loader.load()\n",
    "\n",
    "# html 转 text\n",
    "html2test_transformer = Html2TextTransformer()\n",
    "docs = html2test_transformer.transform_documents(docs)\n",
    "\n",
    "# 分割文本\n",
    "text_splitter = RecursiveCharacterTextSplitter(chunk_size=1000, chunk_overlap=100)\n",
    "splits = text_splitter.split_documents(docs)\n",
    "\n",
    "ids = [str(uuid.uuid4()) for _ in splits]\n",
    "\n",
    "# embedding 模型\n",
    "base_embeddings = ZhipuAIEmbeddings(\n",
    "    api_key = os.environ['ZHIPUAI_API_KEY']\n",
    ")\n",
    "\n",
    "# 向量存储到 Chroma 数据库中\n",
    "vectorstore = Chroma.from_documents(documents=splits, ids=ids, embedding=base_embeddings)\n",
    "retriever = vectorstore.as_retriever()"
   ]
  },
  {
   "cell_type": "code",
   "execution_count": 4,
   "metadata": {},
   "outputs": [
    {
     "data": {
      "text/plain": [
       "[Document(page_content='哪吒之魔童闹海 (豆瓣) 登录/注册 下载豆瓣客户端 豆瓣 6.0 全新发布 × 豆瓣 扫码直接下载 iPhone · Android 豆瓣 读书 电影 音乐 同城 小组 阅读 FM 时间 豆品 豆瓣电影 搜索： 影讯&购票 选电影 电视剧 排行榜 影评 2024年度榜单 2024年度报告 哪吒之魔童闹海 (2025) 导演: 饺子 编剧: 饺子 主演: 吕艳婷 / 囧森瑟夫 / 瀚墨 / 陈浩 / 绿绮 / 张珈铭 / 杨卫 / 王德顺 / 雨辰 / 李南 / 周泳汐 / 韩雨泽 / 南屿 / 张运气 / 杏林儿 / 王智行 / 张稷 / 良生 / 幻听 / 零柒 / 龚格尔 / 陈厚霖 / 饺子 类型: 剧情 / 喜剧 / 动画 / 奇幻 制片国家/地区: 中国大陆 语言: 汉语普通话 上映日期: 2025-01-29(中国大陆) 片长: 144分钟 又名: 哪吒2 / 哪吒2之魔童闹海 / Ne Zha 2 IMDb: tt34956443 豆瓣评分 引用 8.5 735698人评价 5星 46.3% 4星 37.3% 3星 13.3% 2星 2.4% 1星 0.8% 好于 95% 动画片 好于 98% 喜剧片 想看 看过 评价: 写短评 写影评 分享到 推荐 哪吒之魔童闹海的剧情简介 · · · · · · 天劫之后，哪吒、敖丙的灵魂虽保住了，但肉身很快会魂飞魄散。太乙真人打算用七色宝莲给二人重塑肉身。但是在重塑肉身的过程中却遇到重重困难，哪吒、敖丙的命运将走向何方？ 哪吒之魔童闹海的演职员 · · · · · · ( 全部 66 ) 饺子 导演 吕艳婷 配 儿童哪吒 囧森瑟夫 配 少年哪吒 / 结界兽左 瀚墨 配 敖丙 陈浩 配 李靖 绿绮 配 殷夫人 哪吒之魔童闹海的视频和图片 · · · · · · ( 预告片12 | 图片450 · 添加 ) 预告片 喜欢这部电影的人也喜欢 · · · · · · 哪吒3 长安三万里 8.3 心灵奇旅 8.7 天空之城 9.2 大闹天宫 9.4 哈尔的移动城堡 9.1 头脑特工队2 8.4 灌篮高手 8.9 蜘蛛侠：纵横宇宙 8.4 你想活出怎样的人生 7.5 我要写短评 哪吒之魔童闹海的短评 · · · · · · ( 全部 341249 条 ) 热门 / 最新 / 好友 17945 有用 骂我你是🐷 看过 2025-01-29 19:36:26 江苏 如果这还不好看的话，那真的没可以看的电影了，有些人别太刻薄😂有些人骂我是没用的，自讨没趣，我是不会删评论的，哪吒就是好看，良币驱逐劣币~ 14492 有用 Fang 看过 2025-01-29 13:46:29 河北 烦透了这种高层隐身、中层搞事、底层遭殃的设定，无数次看得我血压飙升，哪吒虽然设定是魔，行事倒是深受忠孝仁义那套东西束缚，也不知道到底反了个啥？ 16265 有用 Ber_雪碧 看过 2025-01-29 11:29:10 北京 好看到超出预期，打破了对哪吒闹海神话传说的既定想象，为故事塑造了符合时代的全新内核。第一部讲打破宿命，第二部是推翻规则，善恶无关种族，申公豹有自己的坚守与珍视，仙人有私心。跳出陈规，就会发现新的“真相”。无论是妖是魔、成人成仙，即便全世界挡在面前，也不要忘了那个心中有火、想与世界斗上一斗的自己。面上是魔童闹海，暗含的却是整个时代命题，细细品，其中有千滋百味的情感共震。 26979 有用 不退 看过 2025-01-29 16:45:37 上海 作为相继看完《哪吒》跟《封神》的人，两张对比，《哪吒》好看100倍。 算是不负期望。 只是，踩仙女裙子+爱美的胖女人这种性别低俗梗，让我意识到它的编剧仍然是这么多年来师承一脉的男性。 不是因为性别低俗梗安排在反派女性上，观众就可以不去在乎，而是因为这样的性别梗笑点，是多年来掌握话语权的男性编剧屡试不爽的花招。 我承认这部电影的优秀，我也同样反感这样的污名化、低级的笑点设置。 11761 有用 居无间 看过 2025-01-29 11:28:51 江苏 饺子的水准真的稳。本片是对第一部的全面升级，阴阳美学更加极致，水与火、红与蓝、善与恶等等元素多番碰撞与交融，最终激发出了澎湃而恢弘的冲击力。这一部的变身以及兵器的运用更燃、更爽，且富有想象力。情绪上依然是笑与泪兼具。内核上又不止于对命运不公的反抗，与不公斗争的不再只是哪吒，还有困于既定约束下退无可退的许多小人物，而当个体变成群体后，对个人命运的刻画变为对时代命运的洞察，这种主题上的升华让影片更有回... 饺子的水准真的稳。本片是对第一部的全面升级，阴阳美学更加极致，水与火、红与蓝、善与恶等等元素多番碰撞与交融，最终激发出了澎湃而恢弘的冲击力。这一部的变身以及兵器的运用更燃、更爽，且富有想象力。情绪上依然是笑与泪兼具。内核上又不止于对命运不公的反抗，与不公斗争的不再只是哪吒，还有困于既定约束下退无可退的许多小人物，而当个体变成群体后，对个人命运的刻画变为对时代命运的洞察，这种主题上的升华让影片更有回味。值得二刷。 (展开) > 更多短评 341249条 为什么被折叠？ 有一些短评被折叠了 评论被折叠，是因为发布这条评论的账号行为异常。评论仍可以被展开阅读，对发布人的账号不造成其他影响。如果认为有问题，可以联系豆瓣电影。 你关注的人还没写过短评 我要写影评 哪吒之魔童闹海的影评 · · · · · · ( 全部 3812 条 ) 热门 Forrest 2025-01-29 17:35:14 特效盛宴下的叙事失衡——《哪吒之魔童闹海》的华丽空洞 作为《哪吒之魔童降世》的续作，《哪吒之魔童闹海》无疑承载了观众对国产动画的极高期待。影片延续了前作的视觉奇观，以极致的特效与宏大的场景堆砌出一场视听盛宴，然而在叙事节奏、角色塑造与主题表达上的失衡，却让这场“闹海”显得浮华有余而内核不足，最终沦为一部披着东... (展开) 3821 2103 2791回应 收起 搬砖侠 2025-01-29 18:39:38 哪吒反叛的力量：从弑父到弑神 当银幕上哪吒在天元鼎内完成涅槃浴火重生时，相信所有人都会赞同，这绝不是一部普通的续作。时隔六年，导演饺子用这部期待已久的《哪吒之魔童闹海》，再次向观众证明了什么才是国产动画电影的王炸级天花板。 无论是从故事构思、角色内心挖掘、世界观构建、主题表达等剧作软层面... (展开) 1089 90 129回应 收起 JJJosie 2025-01-29 22:55:46 哪吒可以被列入老登电影，真的 这篇影评可能有剧透 整部电影开玩笑开的很低俗，没营养。正如张爱玲所说的: 华美的长袍下满是虱子 当时看预告的时候电影组就着重宣传特效做得很牛很用心，已经有网友在预言可能故事内核不行了，我偏不信邪，哪吒第一部可是给我留下了非常好的印象，堪称当时的国漫巅峰了。看完2之后，真的服了。利... (展开) 2896 1858 2841回应 收起 葛大爷 2025-01-29 21:44:46 把仙翁塑造成世俗意义上的恶人，这个电影立意就落入俗套了 这篇影评可能有剧透 欢迎讨论，骂人的都反弹，看到的会删。 电影里十二金仙说不能师出无名去剿灭龙族，太乙真人对仙翁说仙翁的做法违背教义，以及仙翁自己的表演，证明他们阐教内部是有道义存在，是有一套大家都认可的是非观的。但是同时，阐教内部认为妖魔都是恶的，所以要收到阐教教化，但是不应... (展开) 1267 523 698回应 收起 nothing纳森 2025-01-29 20:56:52 若天下无路，我就开出一条路 作为第一批走进电影院的观众，趁着热乎劲儿，如实叨叨，等待了五年之久的《哪吒2》，整出了啥绝活。 先用一句话总结，从价值观构建 、视效制作、创意发挥三个层面，《哪吒2》确实是做到了在《哪吒1》基础上的全面迭代。 先说价值观构建，从人物观塑造来讲，如果说《哪吒1》的母... (展开) 709 48 75回应 收起 云霁 2025-01-30 04:07:28 这烂成一团的剧情到底谁在夸 凌晨三点没精力整理思路了，乱七八糟想到哪儿写到哪儿 有剧透慎点 · 特效画面非常好，完全值回票钱了，图个大过年的不想费脑子，就想看个视效的，直接买票冲，完全没问题✓，想带点脑子看剧情的，建议是三思吧。 · 四海龙王第一次打上陈塘关，李靖殷夫人看到哪吒有危险就立... (展开) 1391 693 704回应 收起 猪Q 2025-01-29 15:23:06 看过一天后，从三星降到两星，喜欢这部电影的这么多，不差我陈塘关百姓一个 这篇影评可能有剧透 这根本就是一部不该存在的续集，不过魔童降世实在太太太成功了，能怎么办呢。 结果就是，哪吒第二部不仅没有一个很明确的主线故事，也没塑造好任何一个新角色，其中反派也不难猜，反正想搞大事情的神仙没几个好东西。 这一部的故事甚至无法用一句话概括出来。一会儿龙宫复仇，... (展开) 1700 1035 1477回应 收起 owl 2025-01-29 13:01:05 致你我之辈 致父母之辈 这篇影评可能有剧透 看完走出电影院 问妈妈：好看吗 妈妈：好看 过了两分钟 妈妈：这电影是给你们这辈看的 也是给我们这辈看的 最聪明的妈妈即刻拿捏精髓 对父母来讲 我们都是魔丸 别人家的小孩纵然是灵珠 无论如何 他们爱的还是我们 虽然说失去了才知道珍惜是句名言 可导演还是在努力告诉我们 不... (展开) 490 47 59回应 收起 徐旷来 2025-01-26 08:42:49 哪吒最早出自哪？《哪吒之魔童闹海》 哪吒，一听这名字的读音，就不像汉语。 哪吒从何而来？从印度来。古人翻译佛经，有在汉字左边加口字的习惯，比如压了孙猴子五百年的五指山上的梵文六字咒语：唵（ōng）、嘛（ma）、呢（nī）、叭（bēi）、咪（mēi）、吽（hōng），意味着清除贪、嗔、痴、傲慢、嫉妒、吝啬。... (展开) 355 35 50回应 收起 导师永远的战士 2025-01-29 16:16:01 合格的商业片，但仍想提出质疑 作为贺岁档电影，哪吒无疑是一部合格的商业片。故事节奏快，至少看着不会无聊，围绕亲情线展开，也适合全家一起看。特效场面宏大，一看便知是烧了钱的，也能值回票价来。如果是专注磕cp的无脑磕药鸡，作品也满足要求大卖特卖，两男主几乎时时黏在一起，包含同人女喜欢的两个灵... (展开) 494 107 168回应 收起 > 更多影评 3812篇 发起新的讨论 小组讨论 · · · · · · 哪吒1我5刷（不算流媒体），哪吒2却没有2刷的冲动 来自李先生 26 回应 2025-02-06 19:13:41 报一下军情，已经60亿了 来自重庆猛男 1 回应 2025-02-06 19:13:18 郭靖已死，哪吒出世——从“英雄觉醒”的角度比较... 来自光影书编 17 回应 2025-02-06 19:12:53 不谈麦麸和女性主义，就纯内容角度谈谈有多烂总可... 来自云霁 696 回应 2025-02-06 19:12:26 2d，3d，imax影厅区别大吗 来自豆友AAjv_Hc2so 5 回应 2025-02-06 19:12:21 🍐🍑，客观评价《哪吒2》暨拆穿黑子的假面 来自踏风归来 67 回应 2025-02-06 19:12:12 现在的电影也就赢在营销宣传上了 来自可爱☺ 63 回应 2025-02-06 19:11:36 刚进组，组内说的哪吒缺点，就可以看出为什么所有... 来自鲜花饼 46 回应 2025-02-06 19:11:23 大概猜到为啥票房那么高了 来自概查噶 124 回应 2025-02-06 19:11:16 一种无力感 来自马丁尼 2025-02-06 19:10:21 > 去这部电影的小组讨论（全部4150条） 购票 以下片单推荐 · · · · · · ( 全部 ) 【豆瓣高分动画长片】 (影志) 评价人数超过十万的电影 (依然饭特稀) 豆瓣上评分人数超过5万评分高于7分的电影 (Puff) ღ♩♪生活有这些期待很有动力♫♬ღ (freedom♪) 不把每部都看齐就硌硬 10th Anniv. (日耳man) 谁在看这部电影 · · · · · · 豆友_GOz6-eIQk 刚刚 想看 👹 刚刚 看过 大白不胖胖 刚刚 想看 764200人看过 / 94074人想看 订阅哪吒之魔童闹海的评论: feed: rss 2.0 © 2005－2025 douban.com, all rights reserved 北京豆网科技有限公司 关于豆瓣 · 在豆瓣工作 · 联系我们 · 法律声明 · 帮助中心 · 移动应用 \\n\\n', metadata={'source': 'https://movie.douban.com/subject/34780991/?from=showing', 'title': '\\n        哪吒之魔童闹海 (豆瓣)\\n', 'description': '哪吒之魔童闹海电影简介和剧情介绍,哪吒之魔童闹海影评、图片、预告片、影讯、论坛、在线购票', 'language': 'zh-CN'})]"
      ]
     },
     "execution_count": 4,
     "metadata": {},
     "output_type": "execute_result"
    }
   ],
   "source": [
    "docs"
   ]
  },
  {
   "cell_type": "code",
   "execution_count": 5,
   "metadata": {},
   "outputs": [],
   "source": [
    "# 定义改写用户提问的 prompt\n",
    "contextualize_q_system_prompt = (\n",
    "    \"请根据给定的历史对话记录和用户提问，改写用户最终提出的问题。\"\n",
    "    \"不要回答问题，只需要改写当前用户提问。\"\n",
    "    \"没有对话历史则将用户最新的提问直接返回，有则进行改写。\"\n",
    ")\n",
    "contextualize_q_prompt = ChatPromptTemplate.from_messages(\n",
    "    [\n",
    "        (\"system\", contextualize_q_system_prompt),\n",
    "        MessagesPlaceholder(\"chat_history\"),\n",
    "        (\"human\", \"{input}\"),\n",
    "    ]\n",
    ")\n",
    "\n",
    "llm = ChatOpenAI(model=\"gpt-4o-mini\", temperature=0)\n",
    "# 对话历史检索器\n",
    "history_aware_retriever = create_history_aware_retriever(\n",
    "    llm, retriever, contextualize_q_prompt\n",
    ")"
   ]
  },
  {
   "cell_type": "code",
   "execution_count": 6,
   "metadata": {},
   "outputs": [],
   "source": [
    "# 定义对话助手的 prompt\n",
    "system_prompt = (\n",
    "   \"你是一个问答任务的助手。请根据检索到的上下文来回答问题。\"\n",
    "   \"如果你不知道答案，就说不知道，不要随意编造答案。\"\n",
    "    \"\\n\\n\"\n",
    "    \"{context}\"\n",
    ")\n",
    "\n",
    "# 创建问答 chain\n",
    "qa_prompt = ChatPromptTemplate.from_messages(\n",
    "    [\n",
    "        (\"system\", system_prompt),\n",
    "        MessagesPlaceholder(\"chat_history\"),\n",
    "        (\"human\", \"{input}\"),\n",
    "    ]\n",
    ")\n",
    "question_answer_chain = create_stuff_documents_chain(llm, qa_prompt)\n",
    "rag_chain = create_retrieval_chain(history_aware_retriever, question_answer_chain)\n",
    "\n",
    "# with history\n",
    "store = {}\n",
    "def get_session_history(session_id: str) -> BaseChatMessageHistory:\n",
    "    if session_id not in store:\n",
    "        store[session_id] = ChatMessageHistory()\n",
    "    return store[session_id]\n",
    "\n",
    "conversational_rag_chain = RunnableWithMessageHistory(\n",
    "    rag_chain,\n",
    "    get_session_history,\n",
    "    input_messages_key=\"input\",\n",
    "    history_messages_key=\"chat_history\",\n",
    "    output_messages_key=\"answer\",\n",
    ")"
   ]
  },
  {
   "cell_type": "markdown",
   "metadata": {},
   "source": [
    "rag 问答链构造完成后，就可以开始对话了。我们再自定义一个 session_id key，用于上下文串联，后续改写 query 时根据请求携带的 session_id 获取历史对话内容。\n",
    "\n",
    "> 这里为了示例方便，我们使用的是简单固定的 session_id，对话记录也只是存储在一个简单的字典 store 中。实际应用时，一般需要给每个用户生成不同的唯一标识，并使用 MySQL、Redis 等数据存储服务管理每个用户的对话历史数据。"
   ]
  },
  {
   "cell_type": "code",
   "execution_count": 7,
   "metadata": {},
   "outputs": [
    {
     "data": {
      "text/plain": [
       "'《哪吒之魔童闹海》是《哪吒之魔童降世》的续作，由导演饺子执导。这部电影在视觉效果和特效上进行了全面升级，继续延续了前作的阴阳美学，展现了水与火、红与蓝、善与恶等元素的碰撞与交融。影片不仅在动作场面和变身效果上更加燃，更富有想象力，同时情感上也兼具笑与泪。\\n\\n影片的主题超越了对命运不公的反抗，探讨了许多小人物在既定约束下的挣扎与斗争。当个体的命运变成群体的命运时，影片对时代命运的洞察使得其内核更加深刻。整体来看，这部电影在故事构思、角色塑造和主题表达上都有所提升，受到了观众的广泛关注和讨论。'"
      ]
     },
     "execution_count": 7,
     "metadata": {},
     "output_type": "execute_result"
    }
   ],
   "source": [
    "session_id = \"abc123\"\n",
    "conversational_rag_chain.invoke(\n",
    "    {\"input\": \"介绍下《哪吒之魔童闹海》这部电影\"},\n",
    "    config={\n",
    "        \"configurable\": {\"session_id\": session_id}\n",
    "    },\n",
    ")[\"answer\"]"
   ]
  },
  {
   "cell_type": "markdown",
   "metadata": {},
   "source": [
    "在第一个问题基础上继续提问，使用代词“这部电影”指代前面提到的电影名称。"
   ]
  },
  {
   "cell_type": "code",
   "execution_count": 8,
   "metadata": {},
   "outputs": [
    {
     "name": "stdout",
     "output_type": "stream",
     "text": [
      "回答：\n",
      "《哪吒之魔童闹海》的导演是饺子。\n"
     ]
    }
   ],
   "source": [
    "res = conversational_rag_chain.invoke(\n",
    "    {\"input\": \"这部电影的导演是谁\"},\n",
    "    config={\"configurable\": {\"session_id\": session_id}},\n",
    ")\n",
    "print(\"回答：\\n\" + res[\"answer\"])"
   ]
  },
  {
   "cell_type": "markdown",
   "metadata": {},
   "source": [
    "## 2. query 转换\n",
    "\n",
    "### 2.1 HyDE\n",
    "\n",
    "##### 2.1.1 概念介绍\n",
    "HyDE（Hypothetical Document Embeddings）算法由 Gao 等人于 2023 年在[《Precise Zero-Shot Dense Retrieval without Relevance Labels》](https://arxiv.org/abs/2212.10496)论文中提出，背景是为了解决零样本密集检索的挑战，结合生成模型和嵌入模型，无需相关标签即可提升检索效果。\n",
    "\n",
    "HyDE 即假设文档嵌入，旨在通过生成假设性文档来提升检索效果。其核心思想如下：\n",
    "* 首先，在用户输入查询后，使用 LLM 在没有外部知识的情况下生成一个假设的、理想化的相关文档。生成的文档不一定是真实存在的，这一步的目的是捕捉查询的深层语义意图。\n",
    "* 接下来，将这个假设性文档和原始查询都转换为嵌入，用于向量检索的相似性计算。\n",
    "* 然后，从目标文档数据库中检索，找到在向量空间中最接近这些嵌入的真实文档。\n",
    "\n",
    "![HyDE](./figures/HyDE.png)\n",
    "\n",
    "#### 2.1.2 优势和局限性\n",
    "\n",
    "区别于直接使用 query 来检索嵌入相似性，HyDE 是检索从一个答案到另一个答案的嵌入相似性，可以让根据 query 生成的假设性文档和目标文档的语义空间保持一致。通过生成假设文档，HyDE 能覆盖更广泛的语义关联，具备更好的泛化能力；并且无需依赖标注数据，具有零样本（Zero-Shot）适应能力。然而，HyDE 方法依赖生成模型的可靠性，若模型本身存在偏见或知识过时，最终检索结果可能会不理想。\n",
    "\n",
    "#### 2.1.3 代码实现"
   ]
  },
  {
   "cell_type": "code",
   "execution_count": 9,
   "metadata": {},
   "outputs": [
    {
     "data": {
      "text/plain": [
       "'《哪吒之魔童降世》讲述了一个关于成长与自我认同的故事。影片围绕着中国传统神话中的哪吒角色展开，讲述了他从一个被视为“魔童”的孩子，逐渐成长为英雄的过程。\\n\\n故事的背景设定在一个神话世界，哪吒是莲花化身的灵魂，出生时被预言为将给人间带来灾难，因此遭到众人的误解和排斥。面对外界的偏见和压力，哪吒内心挣扎，但他并不甘心被命运所左右，努力寻找自己的价值和归属。\\n\\n在与父母、朋友以及敌人之间的互动中，哪吒逐渐认识到真正的勇气和责任，并最终选择保护他所爱的人，打破命运的束缚，成为了一个真正的英雄。影片通过哪吒的成长历程，传达了关于勇敢做自己、打破偏见和追求自由的重要主题。'"
      ]
     },
     "execution_count": 9,
     "metadata": {},
     "output_type": "execute_result"
    }
   ],
   "source": [
    "from langchain.prompts import ChatPromptTemplate\n",
    "from langchain_core.output_parsers import StrOutputParser\n",
    "from langchain_openai import ChatOpenAI\n",
    "\n",
    "# 定义 HyDE 生成答案的 prompt\n",
    "template = \"\"\"请根据以下问题给出你的回答。\n",
    "\n",
    "问题: {question}\n",
    "\n",
    "回答:\n",
    "\"\"\"\n",
    "\n",
    "prompt_hyde = ChatPromptTemplate.from_template(template)\n",
    "llm = ChatOpenAI(model=\"gpt-4o-mini\", temperature=0)\n",
    "output_parser = StrOutputParser()\n",
    "\n",
    "retrieval_hyde = (\n",
    "    prompt_hyde | llm | output_parser\n",
    ")\n",
    "\n",
    "question = \"电影哪吒之魔童降世讲述了什么故事？\"\n",
    "retrieval_hyde.invoke({\"question\":question})\n"
   ]
  },
  {
   "cell_type": "code",
   "execution_count": 10,
   "metadata": {},
   "outputs": [],
   "source": [
    "# 将上述生成的回答，作为输入到向量库中进行检索。\n",
    "# 这里继续沿用前一小节已导入数据的向量库。\n",
    "retrieval_chain = retrieval_hyde | retriever \n",
    "retireved_docs = retrieval_chain.invoke({\"question\": question})"
   ]
  },
  {
   "cell_type": "code",
   "execution_count": 11,
   "metadata": {},
   "outputs": [
    {
     "data": {
      "text/plain": [
       "[Document(page_content='致父母之辈 这篇影评可能有剧透 看完走出电影院 问妈妈：好看吗 妈妈：好看 过了两分钟 妈妈：这电影是给你们这辈看的 也是给我们这辈看的 最聪明的妈妈即刻拿捏精髓 对父母来讲 我们都是魔丸 别人家的小孩纵然是灵珠 无论如何 他们爱的还是我们 虽然说失去了才知道珍惜是句名言 可导演还是在努力告诉我们 不... (展开) 490 47 59回应 收起 徐旷来 2025-01-26 08:42:49 哪吒最早出自哪？《哪吒之魔童闹海》 哪吒，一听这名字的读音，就不像汉语。 哪吒从何而来？从印度来。古人翻译佛经，有在汉字左边加口字的习惯，比如压了孙猴子五百年的五指山上的梵文六字咒语：唵（ōng）、嘛（ma）、呢（nī）、叭（bēi）、咪（mēi）、吽（hōng），意味着清除贪、嗔、痴、傲慢、嫉妒、吝啬。... (展开) 355 35 50回应 收起 导师永远的战士 2025-01-29 16:16:01 合格的商业片，但仍想提出质疑 作为贺岁档电影，哪吒无疑是一部合格的商业片。故事节奏快，至少看着不会无聊，围绕亲情线展开，也适合全家一起看。特效场面宏大，一看便知是烧了钱的，也能值回票价来。如果是专注磕cp的无脑磕药鸡，作品也满足要求大卖特卖，两男主几乎时时黏在一起，包含同人女喜欢的两个灵... (展开) 494 107 168回应 收起 > 更多影评 3812篇 发起新的讨论 小组讨论 · · · · · · 哪吒1我5刷（不算流媒体），哪吒2却没有2刷的冲动 来自李先生 26 回应 2025-02-06 19:13:41 报一下军情，已经60亿了 来自重庆猛男 1 回应 2025-02-06 19:13:18 郭靖已死，哪吒出世——从“英雄觉醒”的角度比较... 来自光影书编 17 回应 2025-02-06 19:12:53 不谈麦麸和女性主义，就纯内容角度谈谈有多烂总可... 来自云霁 696 回应 2025-02-06 19:12:26 2d，3d，imax影厅区别大吗 来自豆友AAjv_Hc2so 5 回应 2025-02-06 19:12:21 🍐🍑，客观评价《哪吒2》暨拆穿黑子的假面 来自踏风归来 67 回应 2025-02-06 19:12:12 现在的电影也就赢在营销宣传上了 来自可爱☺ 63 回应 2025-02-06 19:11:36', metadata={'description': '哪吒之魔童闹海电影简介和剧情介绍,哪吒之魔童闹海影评、图片、预告片、影讯、论坛、在线购票', 'language': 'zh-CN', 'source': 'https://movie.douban.com/subject/34780991/?from=showing', 'title': '\\n        哪吒之魔童闹海 (豆瓣)\\n'}),\n",
       " Document(page_content='饺子的水准真的稳。本片是对第一部的全面升级，阴阳美学更加极致，水与火、红与蓝、善与恶等等元素多番碰撞与交融，最终激发出了澎湃而恢弘的冲击力。这一部的变身以及兵器的运用更燃、更爽，且富有想象力。情绪上依然是笑与泪兼具。内核上又不止于对命运不公的反抗，与不公斗争的不再只是哪吒，还有困于既定约束下退无可退的许多小人物，而当个体变成群体后，对个人命运的刻画变为对时代命运的洞察，这种主题上的升华让影片更有回味。值得二刷。 (展开) > 更多短评 341249条 为什么被折叠？ 有一些短评被折叠了 评论被折叠，是因为发布这条评论的账号行为异常。评论仍可以被展开阅读，对发布人的账号不造成其他影响。如果认为有问题，可以联系豆瓣电影。 你关注的人还没写过短评 我要写影评 哪吒之魔童闹海的影评 · · · · · · ( 全部 3812 条 ) 热门 Forrest 2025-01-29 17:35:14 特效盛宴下的叙事失衡——《哪吒之魔童闹海》的华丽空洞 作为《哪吒之魔童降世》的续作，《哪吒之魔童闹海》无疑承载了观众对国产动画的极高期待。影片延续了前作的视觉奇观，以极致的特效与宏大的场景堆砌出一场视听盛宴，然而在叙事节奏、角色塑造与主题表达上的失衡，却让这场“闹海”显得浮华有余而内核不足，最终沦为一部披着东... (展开) 3821 2103 2791回应 收起 搬砖侠 2025-01-29 18:39:38 哪吒反叛的力量：从弑父到弑神 当银幕上哪吒在天元鼎内完成涅槃浴火重生时，相信所有人都会赞同，这绝不是一部普通的续作。时隔六年，导演饺子用这部期待已久的《哪吒之魔童闹海》，再次向观众证明了什么才是国产动画电影的王炸级天花板。 无论是从故事构思、角色内心挖掘、世界观构建、主题表达等剧作软层面... (展开) 1089 90 129回应 收起 JJJosie 2025-01-29 22:55:46 哪吒可以被列入老登电影，真的 这篇影评可能有剧透 整部电影开玩笑开的很低俗，没营养。正如张爱玲所说的: 华美的长袍下满是虱子 当时看预告的时候电影组就着重宣传特效做得很牛很用心，已经有网友在预言可能故事内核不行了，我偏不信邪，哪吒第一部可是给我留下了非常好的印象，堪称当时的国漫巅峰了。看完2之后，真的服了。利... (展开) 2896 1858 2841回应 收起 葛大爷', metadata={'description': '哪吒之魔童闹海电影简介和剧情介绍,哪吒之魔童闹海影评、图片、预告片、影讯、论坛、在线购票', 'language': 'zh-CN', 'source': 'https://movie.douban.com/subject/34780991/?from=showing', 'title': '\\n        哪吒之魔童闹海 (豆瓣)\\n'}),\n",
       " Document(page_content='(展开) 2896 1858 2841回应 收起 葛大爷 2025-01-29 21:44:46 把仙翁塑造成世俗意义上的恶人，这个电影立意就落入俗套了 这篇影评可能有剧透 欢迎讨论，骂人的都反弹，看到的会删。 电影里十二金仙说不能师出无名去剿灭龙族，太乙真人对仙翁说仙翁的做法违背教义，以及仙翁自己的表演，证明他们阐教内部是有道义存在，是有一套大家都认可的是非观的。但是同时，阐教内部认为妖魔都是恶的，所以要收到阐教教化，但是不应... (展开) 1267 523 698回应 收起 nothing纳森 2025-01-29 20:56:52 若天下无路，我就开出一条路 作为第一批走进电影院的观众，趁着热乎劲儿，如实叨叨，等待了五年之久的《哪吒2》，整出了啥绝活。 先用一句话总结，从价值观构建 、视效制作、创意发挥三个层面，《哪吒2》确实是做到了在《哪吒1》基础上的全面迭代。 先说价值观构建，从人物观塑造来讲，如果说《哪吒1》的母... (展开) 709 48 75回应 收起 云霁 2025-01-30 04:07:28 这烂成一团的剧情到底谁在夸 凌晨三点没精力整理思路了，乱七八糟想到哪儿写到哪儿 有剧透慎点 · 特效画面非常好，完全值回票钱了，图个大过年的不想费脑子，就想看个视效的，直接买票冲，完全没问题✓，想带点脑子看剧情的，建议是三思吧。 · 四海龙王第一次打上陈塘关，李靖殷夫人看到哪吒有危险就立... (展开) 1391 693 704回应 收起 猪Q 2025-01-29 15:23:06 看过一天后，从三星降到两星，喜欢这部电影的这么多，不差我陈塘关百姓一个 这篇影评可能有剧透 这根本就是一部不该存在的续集，不过魔童降世实在太太太成功了，能怎么办呢。 结果就是，哪吒第二部不仅没有一个很明确的主线故事，也没塑造好任何一个新角色，其中反派也不难猜，反正想搞大事情的神仙没几个好东西。 这一部的故事甚至无法用一句话概括出来。一会儿龙宫复仇，... (展开) 1700 1035 1477回应 收起 owl 2025-01-29 13:01:05 致你我之辈 致父母之辈 这篇影评可能有剧透 看完走出电影院 问妈妈：好看吗 妈妈：好看 过了两分钟 妈妈：这电影是给你们这辈看的 也是给我们这辈看的 最聪明的妈妈即刻拿捏精髓 对父母来讲 我们都是魔丸', metadata={'description': '哪吒之魔童闹海电影简介和剧情介绍,哪吒之魔童闹海影评、图片、预告片、影讯、论坛、在线购票', 'language': 'zh-CN', 'source': 'https://movie.douban.com/subject/34780991/?from=showing', 'title': '\\n        哪吒之魔童闹海 (豆瓣)\\n'}),\n",
       " Document(page_content='8.4 你想活出怎样的人生 7.5 我要写短评 哪吒之魔童闹海的短评 · · · · · · ( 全部 341249 条 ) 热门 / 最新 / 好友 17945 有用 骂我你是🐷 看过 2025-01-29 19:36:26 江苏 如果这还不好看的话，那真的没可以看的电影了，有些人别太刻薄😂有些人骂我是没用的，自讨没趣，我是不会删评论的，哪吒就是好看，良币驱逐劣币~ 14492 有用 Fang 看过 2025-01-29 13:46:29 河北 烦透了这种高层隐身、中层搞事、底层遭殃的设定，无数次看得我血压飙升，哪吒虽然设定是魔，行事倒是深受忠孝仁义那套东西束缚，也不知道到底反了个啥？ 16265 有用 Ber_雪碧 看过 2025-01-29 11:29:10 北京 好看到超出预期，打破了对哪吒闹海神话传说的既定想象，为故事塑造了符合时代的全新内核。第一部讲打破宿命，第二部是推翻规则，善恶无关种族，申公豹有自己的坚守与珍视，仙人有私心。跳出陈规，就会发现新的“真相”。无论是妖是魔、成人成仙，即便全世界挡在面前，也不要忘了那个心中有火、想与世界斗上一斗的自己。面上是魔童闹海，暗含的却是整个时代命题，细细品，其中有千滋百味的情感共震。 26979 有用 不退 看过 2025-01-29 16:45:37 上海 作为相继看完《哪吒》跟《封神》的人，两张对比，《哪吒》好看100倍。 算是不负期望。 只是，踩仙女裙子+爱美的胖女人这种性别低俗梗，让我意识到它的编剧仍然是这么多年来师承一脉的男性。 不是因为性别低俗梗安排在反派女性上，观众就可以不去在乎，而是因为这样的性别梗笑点，是多年来掌握话语权的男性编剧屡试不爽的花招。 我承认这部电影的优秀，我也同样反感这样的污名化、低级的笑点设置。 11761 有用 居无间 看过 2025-01-29 11:28:51 江苏 饺子的水准真的稳。本片是对第一部的全面升级，阴阳美学更加极致，水与火、红与蓝、善与恶等等元素多番碰撞与交融，最终激发出了澎湃而恢弘的冲击力。这一部的变身以及兵器的运用更燃、更爽，且富有想象力。情绪上依然是笑与泪兼具。内核上又不止于对命运不公的反抗，与不公斗争的不再只是哪吒，还有困于既定约束下退无可退的许多小人物，而当个体变成群体后，对个人命运的刻画变为对时代命运的洞察，这种主题上的升华让影片更有回...', metadata={'description': '哪吒之魔童闹海电影简介和剧情介绍,哪吒之魔童闹海影评、图片、预告片、影讯、论坛、在线购票', 'language': 'zh-CN', 'source': 'https://movie.douban.com/subject/34780991/?from=showing', 'title': '\\n        哪吒之魔童闹海 (豆瓣)\\n'})]"
      ]
     },
     "execution_count": 11,
     "metadata": {},
     "output_type": "execute_result"
    }
   ],
   "source": [
    "# 查看根据 HyDE 回答检索到的文档内容\n",
    "retireved_docs"
   ]
  },
  {
   "cell_type": "code",
   "execution_count": 12,
   "metadata": {},
   "outputs": [
    {
     "data": {
      "text/plain": [
       "'《哪吒之魔童降世》讲述了一个关于命运与自我认同的故事。影片围绕主角哪吒展开，他是一个被认为是“魔”的孩子，出生时就注定要与命运抗争。故事中，哪吒面临着来自外界的偏见和压力，但他努力寻找自己的身份，试图打破宿命的束缚。\\n\\n影片通过哪吒的成长历程，探讨了亲情、友情和自我救赎的主题。哪吒在与敌人斗争的过程中，不仅要面对外部的挑战，还要克服内心的挣扎，最终实现了自我救赎，证明了自己并不是命运所定义的“魔”，而是可以选择自己道路的英雄。\\n\\n整部电影结合了中国传统文化元素与现代价值观，展现了对命运不公的反抗和对自我价值的追求，深受观众喜爱。'"
      ]
     },
     "execution_count": 12,
     "metadata": {},
     "output_type": "execute_result"
    }
   ],
   "source": [
    "template = \"\"\"根据以下内容回答用户提问:\n",
    "\n",
    "{context}\n",
    "\n",
    "用户提问: {question}\n",
    "\"\"\"\n",
    "\n",
    "prompt = ChatPromptTemplate.from_template(template)\n",
    "\n",
    "final_rag_chain = (\n",
    "    prompt\n",
    "    | llm\n",
    "    | StrOutputParser()\n",
    ")\n",
    "\n",
    "final_rag_chain.invoke({\"context\":retireved_docs, \"question\":question})"
   ]
  },
  {
   "cell_type": "markdown",
   "metadata": {},
   "source": [
    "### 2.2 Step-Back Prompting\n",
    "\n",
    "#### 2.2.1 概念介绍\n",
    "\n",
    "Step-Back Prompting 由 Google DeepMind 团队于 2024 年 3 月在[《Take a Step Back: Evoking Reasoning via Abstraction in Large Language Models》](https://arxiv.org/pdf/2310.06117)论文中提出，是一种旨在提升 LLM 复杂问题推理能力的提示技术，其核心思想是引导模型进行抽象思考，从具体问题中抽象出高层次的概念或原理，从而增强对复杂问题的推理能力。具体策略如下：\n",
    "* 首先使用 LLM \"后退一步\"生成高层次的抽象概念，将推理建立在抽象概念的基础上，以减少在中间推理步骤中出错的概率；\n",
    "* 然后将抽象的概念和原始问题都用来进行检索，并把检索到的结果都用来作为 LLM 响应的基础。\n",
    "\n",
    "![Step-Back Prompting](./figures/Step-Back-Prompting.png)\n",
    "\n",
    "例如，上述图片中的一个例子是，\"Estella Leopold 在 1954 年 8 月至 1954 年 11 月期间去了哪所学校？\"，这类问题对于 LLM 来说很容易答错，因为文档中可能并没有直接相关的内容。但是如果后退一步，站在更高层次对问题进行抽象，提出一个新的问题：\"Estella Leopold 的教育背景是什么？\"，那 LLM 可以先将 Estella Leopold 的教育经历都列出来，然后将这些信息和原始问题放在一起，这样对于 LLM 来说就可以很容易给出正确答案。\n",
    "\n",
    "#### 2.2.2 优势和局限性\n",
    "\n",
    "Step-Back Prompting 通过 \"抽象化->具体推理\" 的分层策略，能够提升大模型在复杂任务中的表现，但其效果也高度依赖模型本身的领域知识和抽象能力。\n",
    "\n",
    "#### 2.2.3 代码实现"
   ]
  },
  {
   "cell_type": "code",
   "execution_count": 13,
   "metadata": {},
   "outputs": [],
   "source": [
    "from langchain_core.output_parsers import StrOutputParser\n",
    "from langchain_core.prompts import ChatPromptTemplate, FewShotChatMessagePromptTemplate\n",
    "from langchain_core.runnables import RunnableLambda\n",
    "from langchain_openai import ChatOpenAI\n",
    "\n",
    "# 提供 Few Shot 示例，用于指导模型如何回答问题\n",
    "examples = [\n",
    "    {\n",
    "        \"input\": \"中国农历年腊月三十日放假吗？\",\n",
    "        \"output\": \"中国农历假期时间有哪些？\",\n",
    "    },\n",
    "    {\n",
    "        \"input\": \"李白是哪个朝代的诗人？\",\n",
    "        \"output\": \"李白的生平简介?\",\n",
    "    },\n",
    "]\n",
    "example_prompt = ChatPromptTemplate.from_messages(\n",
    "    [\n",
    "        (\"human\", \"{input}\"),\n",
    "        (\"ai\", \"{output}\"),\n",
    "    ]\n",
    ")\n",
    "few_shot_prompt = FewShotChatMessagePromptTemplate(\n",
    "    example_prompt=example_prompt,\n",
    "    examples=examples,\n",
    ")\n",
    "\n",
    "# 定义系统提示和最终的 Prompt\n",
    "prompt = ChatPromptTemplate.from_messages(\n",
    "    [\n",
    "        (\n",
    "            \"system\",\n",
    "            \"\"\"你是一个擅长将问题转化为更通用问题的专家。你的任务是将具体的问题转化为更抽象的、更通用的“退一步”问题，以便更容易回答。以下是一些示例：\"\"\",\n",
    "        ),\n",
    "        # Few shot 示例\n",
    "        few_shot_prompt,\n",
    "        # 用户输入的原始问题\n",
    "        (\"user\", \"{question}\"),\n",
    "    ]\n",
    ")"
   ]
  },
  {
   "cell_type": "code",
   "execution_count": 14,
   "metadata": {},
   "outputs": [],
   "source": [
    "llm = ChatOpenAI(model=\"gpt-4o-mini\", temperature=0)\n",
    "output_parser = StrOutputParser()\n",
    "question_gen = prompt | llm | output_parser"
   ]
  },
  {
   "cell_type": "code",
   "execution_count": 15,
   "metadata": {},
   "outputs": [],
   "source": [
    "question = \"农历正月初五是假期吗？\""
   ]
  },
  {
   "cell_type": "code",
   "execution_count": 16,
   "metadata": {},
   "outputs": [
    {
     "data": {
      "text/plain": [
       "'农历新年期间的假期安排是怎样的？'"
      ]
     },
     "execution_count": 16,
     "metadata": {},
     "output_type": "execute_result"
    }
   ],
   "source": [
    "question_gen.invoke({\"question\": question})"
   ]
  },
  {
   "cell_type": "code",
   "execution_count": 17,
   "metadata": {},
   "outputs": [],
   "source": [
    "from langchain_community.utilities import DuckDuckGoSearchAPIWrapper\n",
    "\n",
    "search = DuckDuckGoSearchAPIWrapper(backend='auto', max_results=4)\n",
    "\n",
    "def retriever(query):\n",
    "    return search.run(query)"
   ]
  },
  {
   "cell_type": "code",
   "execution_count": 18,
   "metadata": {},
   "outputs": [
    {
     "data": {
      "text/plain": [
       "'国务院办公厅印发《关于2025年部分节假日安排的通知》。 经党中央、国务院批准，根据2024年11月修订的《全国年节及纪念日放假办法》，自2025年1月1日起，全体公民放假的假日增加2天，其中春节、劳动节各增加1天。. 除个别特殊情形外，春节自农历除夕起放假调休8天，国庆节自10月1日起放假调休7 ... 经党中央、国务院批准，根据2024年11月修订的《全国年节及纪念日放假办法》，自2025年1月1日起，全体公民放假的假日增加2天，其中春节、劳动节各增加1天。据此对放假调休原则作进一步优化完善，除个别特殊情形外，春节自农历除夕起放假调休8天，国庆节自10月1日起放假调休7天，劳动节放假 ... 一、将第二条第二项修改为\"（二）春节，放假4天（农历除夕、正月初一至初三）\"，第四项修改为\"（四）劳动节，放假2天（5月1日、2日 ... 经党中央、国务院批准，根据2024年11月修订的《全国年节及纪念日放假办法》，自2025年1月1日起，全体公民放假的假日增加2天，其中春节、劳动节各增加1天。 ... 二、春节：1月28日（农历除夕、周二）至2月4日（农历正月初七、周二）放假调休，共8天。1月26日 ...'"
      ]
     },
     "execution_count": 18,
     "metadata": {},
     "output_type": "execute_result"
    }
   ],
   "source": [
    "retriever(question)"
   ]
  },
  {
   "cell_type": "code",
   "execution_count": 20,
   "metadata": {},
   "outputs": [
    {
     "data": {
      "text/plain": [
       "'是的，农历正月初五在2025年的春节假期中是一个假期。根据国务院办公厅的通知，春节假期从1月28日（农历除夕）开始，到2月4日（农历正月初七）结束，共计8天。因此，农历正月初五（2月2日）也是假期的一部分。'"
      ]
     },
     "execution_count": 20,
     "metadata": {},
     "output_type": "execute_result"
    }
   ],
   "source": [
    "response_prompt_template = \"\"\"你是一名权威的知识领域专家，请你根据以下内容回答用户提问。如果用户提问与以下内容无关，则请直接忽略这些内容。\n",
    "\n",
    "{normal_context}\n",
    "{step_back_context}\n",
    "\n",
    "用户提问: {question}\n",
    "回答:\"\"\"\n",
    "response_prompt = ChatPromptTemplate.from_template(response_prompt_template)\n",
    "\n",
    "chain = (\n",
    "    {\n",
    "        # Retrieve context using the normal question\n",
    "        \"normal_context\": RunnableLambda(lambda x: x[\"question\"]) | retriever,\n",
    "        # Retrieve context using the step-back question\n",
    "        \"step_back_context\": question_gen | retriever,\n",
    "        # Pass on the question\n",
    "        \"question\": lambda x: x[\"question\"],\n",
    "    }\n",
    "    | response_prompt\n",
    "    | llm\n",
    "    | output_parser\n",
    ")\n",
    "\n",
    "chain.invoke({\"question\": question})\n"
   ]
  },
  {
   "cell_type": "markdown",
   "metadata": {},
   "source": [
    "### 2.3 子查询\n",
    "\n",
    "#### 2.3.1 概念介绍\n",
    "\n",
    "子查询使用分而治之的方法来处理复杂的问题，其核心思想是在问答过程中生成并提出与主问题相关的子问题，以便更好地理解和回答主问题。这些子问题通常更具体，可以帮助系统更深入地理解主问题，从而提高检索准确性和提供正确的答案。具体步骤如下：\n",
    "\n",
    "* 查询分解：利用大语言模型将用户的原始查询分解为多个子查询。\n",
    "* 检索阶段：针对每个子查询，检索模块在知识库或文档集合中检索相关的文档。\n",
    "* 合并与生成：将检索到的文档集拼接起来，再由大语言模型根据这些上下文信息生成最终答案。\n",
    "\n",
    "#### 2.3.2 优势和局限性\n",
    "子查询通过将复杂问题分解为多个子问题，可以更精准地检索到与每个子问题相关的文档，从而提高整体检索的准确性和相关性。并且由于子查询可以覆盖原始查询的多个方面，生成的答案也更加丰富和准确。\n",
    "但同时也存在一些局限性，例如过多的子查询可能增加系统的计算负担和延迟，最终的效果也依赖检索模块的性能。"
   ]
  },
  {
   "cell_type": "markdown",
   "metadata": {},
   "source": [
    "## 参考\n",
    "* [https://python.langchain.com/v0.2/docs/tutorials/qa_chat_history/](https://python.langchain.com/v0.2/docs/tutorials/qa_chat_history/)\n",
    "* [https://github.com/langchain-ai/langchain/blob/master/cookbook/hypothetical_document_embeddings.ipynb](https://github.com/langchain-ai/langchain/blob/master/cookbook/hypothetical_document_embeddings.ipynb)"
   ]
  }
 ],
 "metadata": {
  "kernelspec": {
   "display_name": "Python 3",
   "language": "python",
   "name": "python3"
  },
  "language_info": {
   "codemirror_mode": {
    "name": "ipython",
    "version": 3
   },
   "file_extension": ".py",
   "mimetype": "text/x-python",
   "name": "python",
   "nbconvert_exporter": "python",
   "pygments_lexer": "ipython3",
   "version": "3.10.14"
  }
 },
 "nbformat": 4,
 "nbformat_minor": 2
}
